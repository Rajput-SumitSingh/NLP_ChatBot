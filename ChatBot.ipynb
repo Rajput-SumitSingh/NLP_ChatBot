{
 "cells": [
  {
   "cell_type": "code",
   "execution_count": 112,
   "id": "b607f485",
   "metadata": {},
   "outputs": [],
   "source": [
    "import io\n",
    "import random\n",
    "import string \n",
    "import warnings\n",
    "import numpy as np\n",
    "from sklearn.feature_extraction.text import TfidfVectorizer\n",
    "from sklearn.metrics.pairwise import cosine_similarity\n",
    "import warnings\n",
    "warnings.filterwarnings('ignore')"
   ]
  },
  {
   "cell_type": "code",
   "execution_count": 96,
   "id": "f36c521e",
   "metadata": {},
   "outputs": [
    {
     "data": {
      "text/plain": [
       "True"
      ]
     },
     "execution_count": 96,
     "metadata": {},
     "output_type": "execute_result"
    }
   ],
   "source": [
    "nltk.download('popular', quiet=True)"
   ]
  },
  {
   "cell_type": "code",
   "execution_count": 106,
   "id": "d2678066",
   "metadata": {},
   "outputs": [],
   "source": [
    "f = open('content/data.txt', 'r', errors = 'ignore')\n",
    "raw = f.read()"
   ]
  },
  {
   "cell_type": "code",
   "execution_count": 82,
   "id": "458f47f9",
   "metadata": {},
   "outputs": [
    {
     "data": {
      "text/plain": [
       "'Main menu\\n\\nWikipediaThe Free Encyclopedia\\nSearch Wikipedia\\nCreate account\\nLog in\\n\\nPersonal tools\\nContents hide\\n(Top)\\nBackground\\nDevelopment\\nApplication\\nToggle Application subsection\\nMessaging apps\\nAs part of company apps and websites\\nChatbot sequences\\nCompany internal platforms\\nCustomer service\\nHealthcare\\nPolitics\\nToys\\nMalicious use\\nLimitations of chatbots\\nChatbots and jobs\\nSee also\\nReferences\\nFurther reading\\nExternal links\\nChatbot\\n\\nArticle\\nTalk\\nRead\\nView source\\nView history\\n\\nTools\\nPage semi-protected\\nFrom Wikipedia, the free encyclopedia\\nFor other uses, see Chatbot (disambiguation).\\n\\nParts of this article (those related to everything, particularly sections after the intro) need to be updated. The reason given is: this article is using citations from 1970 and virtually all claims about conversational capabilities are at least ten years out of date (for example the Turing test was arguably made obsolete years ago by transformer models). Please help update this article to reflect recent events or newly available information. (February 2023)\\n\\nA virtual assistant chatbot\\n\\nThe 1966 ELIZA chatbot\\nA chatbot (originally chatterbot) is a software application that aims to mimic human conversation through text or voice interactions, typically online.[1][2] The term \"ChatterBot\" was originally coined by Michael Mauldin (creator of the first Verbot) in 1994 to describe conversational programs.[3] Modern chatbots are artificial intelligence (AI) systems that are capable of maintaining a conversation with a user in natural language and simulating the way a human would behave as a conversational partner. Such technologies often utilize aspects of deep learning and natural language processing.\\n\\nRecently this field has gained widespread attention due to the popularity of OpenAI\\'s ChatGPT,[4] followed by alternatives such as Microsoft\\'s Bing Chat (which uses OpenAI\\'s GPT-4) and Google\\'s Bard.[5] Such examples reflect the recent practice of such products being built based upon broad foundational large language models that get fine-tuned so as to target specific tasks or applications (i.e. simulating human conversation, in the case of chatbots). Chatbots can also be designed or customized to further target even more specific situations and/or particular subject-matter domains.[6]\\n\\nA major area where chatbots have long been used is in customer service and support, such as with various sorts of virtual assistants.[7] Recently, companies spanning various industries have begun using the latest generative artificial intelligence technologies to power more advanced developments in such areas.[8]\\n\\nBackground\\nIn 1950, Alan Turing\\'s famous article \"Computing Machinery and Intelligence\" was published,[9] which proposed what is now called the Turing test as a criterion of intelligence. This criterion depends on the ability of a computer program to impersonate a human in a real-time written conversation with a human judge to the extent that the judge is unable to distinguish reliablyâ€”on the basis of the conversational content aloneâ€”between the program and a real human. The notoriety of Turing\\'s proposed test stimulated great interest in Joseph Weizenbaum\\'s program ELIZA, published in 1966, which seemed to be able to fool users into believing that they were conversing with a real human. However Weizenbaum himself did not claim that ELIZA was genuinely intelligent, and the introduction to his paper presented it more as a debunking exercise:\\n\\nIn artificial intelligence, machines are made to behave in wondrous ways, often sufficient to dazzle even the most experienced observer. But once a particular program is unmasked, once its inner workings are explained, its magic crumbles away; it stands revealed as a mere collection of procedures. The observer says to himself \"I could have written that\". With that thought, he moves the program in question from the shelf marked \"intelligent\", to that reserved for curios. The object of this paper is to cause just such a re-evaluation of the program about to be \"explained\". Few programs ever needed it more.[10]\\n\\nELIZA\\'s key method of operation (copied by chatbot designers ever since) involves the recognition of clue words or phrases in the input, and the output of the corresponding pre-prepared or pre-programmed responses that can move the conversation forward in an apparently meaningful way (e.g. by responding to any input that contains the word \\'MOTHER\\' with \\'TELL ME MORE ABOUT YOUR FAMILY\\').[10] Thus an illusion of understanding is generated, even though the processing involved has been merely superficial. ELIZA showed that such an illusion is surprisingly easy to generate because human judges are so ready to give the benefit of the doubt when conversational responses are capable of being interpreted as \"intelligent\".\\n\\nInterface designers have come to appreciate that humans\\' readiness to interpret computer output as genuinely conversationalâ€”even when it is actually based on rather simple pattern-matchingâ€”can be exploited for useful purposes. Most people prefer to engage with programs that are human-like, and this gives chatbot-style techniques a potentially useful role in interactive systems that need to elicit information from users, as long as that information is relatively straightforward and falls into predictable categories. Thus, for example, online help systems can usefully employ chatbot techniques to identify the area of help that users require, potentially providing a \"friendlier\" interface than a more formal search or menu system. This sort of usage holds the prospect of moving chatbot technology from Weizenbaum\\'s \"shelf ... reserved for curios\" to that marked \"genuinely useful computational methods\".\\n\\nDevelopment\\nAmong the most notable early chatbots are ELIZA (1966) and PARRY (1972).[11][12][13][14] More recent notable programs include A.L.I.C.E., Jabberwacky and D.U.D.E (Agence Nationale de la Recherche and CNRS 2006). While ELIZA and PARRY were used exclusively to simulate typed conversation, many chatbots now include other functional features, such as games and web searching abilities. In 1984, a book called The Policeman\\'s Beard is Half Constructed was published, allegedly written by the chatbot Racter (though the program as released would not have been capable of doing so).[15]\\n\\nOne pertinent field of AI research is natural-language processing. Usually, weak AI fields employ specialized software or programming languages created specifically for the narrow function required. For example, A.L.I.C.E. uses a markup language called AIML,[2] which is specific to its function as a conversational agent, and has since been adopted by various other developers of, so-called, Alicebots. Nevertheless, A.L.I.C.E. is still purely based on pattern matching techniques without any reasoning capabilities, the same technique ELIZA was using back in 1966. This is not strong AI, which would require sapience and logical reasoning abilities.\\n\\nJabberwacky learns new responses and context based on real-time user interactions, rather than being driven from a static database. Some more recent chatbots also combine real-time learning with evolutionary algorithms that optimize their ability to communicate based on each conversation held. Still, there is currently no general purpose conversational artificial intelligence, and some software developers focus on the practical aspect, information retrieval.\\n\\nChatbot competitions focus on the Turing test or more specific goals. Two such annual contests are the Loebner Prize and The Chatterbox Challenge (the latter has been offline since 2015, however, materials can still be found from web archives).[16]\\n\\nChatbots may use neural networks as a language model. For example, generative pre-trained transformers (GPT), which use the transformer architecture, have become common to build sophisticated chatbots. The \"pre-training\" in its name refers to the initial training process on a large text corpus, which provides a solid foundation for the model to perform well on downstream tasks with limited amounts of task-specific data. An example of a GPT chatbot is ChatGPT. Despite criticism of its accuracy, ChatGPT has gained attention for its detailed responses and historical knowledge. Another example is BioGPT, developed by Microsoft, which focuses on answering biomedical questions.[17][18]\\n\\nDBpedia created a chatbot during the GSoC of 2017.[19][20][21] It can communicate through Facebook Messenger.\\n\\nApplication\\nSee also: Virtual assistant\\nMessaging apps\\nMany companies\\' chatbots run on messaging apps or simply via SMS. They are used for B2C customer service, sales and marketing.[22]\\n\\nIn 2016, Facebook Messenger allowed developers to place chatbots on their platform. There were 30,000 bots created for Messenger in the first six months, rising to 100,000 by September 2017.[23]\\n\\nSince September 2017, this has also been as part of a pilot program on WhatsApp. Airlines KLM and AeromÃ©xico both announced their participation in the testing;[24][25][26][27] both airlines had previously launched customer services on the Facebook Messenger platform.\\n\\nThe bots usually appear as one of the user\\'s contacts, but can sometimes act as participants in a group chat.\\n\\nMany banks, insurers, media companies, e-commerce companies, airlines, hotel chains, retailers, health care providers, government entities and restaurant chains have used chatbots to answer simple questions, increase customer engagement,[28] for promotion, and to offer additional ways to order from them.[29]\\n\\nA 2017 study showed 4% of companies used chatbots.[30] According to a 2016 study, 80% of businesses said they intended to have one by 2020.[31]\\n\\nAs part of company apps and websites\\nPrevious generations of chatbots were present on company websites, e.g. Ask Jenn from Alaska Airlines which debuted in 2008[32] or Expedia\\'s virtual customer service agent which launched in 2011.[32][33] The newer generation of chatbots includes IBM Watson-powered \"Rocky\", introduced in February 2017 by the New York City-based e-commerce company Rare Carat to provide information to prospective diamond buyers.[34][35]\\n\\nChatbot sequences\\nUsed by marketers to script sequences of messages, very similar to an autoresponder sequence. Such sequences can be triggered by user opt-in or the use of keywords within user interactions. After a trigger occurs a sequence of messages is delivered until the next anticipated user response. Each user response is used in the decision tree to help the chatbot navigate the response sequences to deliver the correct response message.\\n\\nCompany internal platforms\\nOther companies explore ways they can use chatbots internally, for example for Customer Support, Human Resources, or even in Internet-of-Things (IoT) projects. Overstock.com, for one, has reportedly launched a chatbot named Mila to automate certain simple yet time-consuming processes when requesting sick leave.[36] Other large companies such as Lloyds Banking Group, Royal Bank of Scotland, Renault and CitroÃ«n are now using automated online assistants instead of call centres with humans to provide a first point of contact. A SaaS chatbot business ecosystem has been steadily growing since the F8 Conference when Facebook\\'s Mark Zuckerberg unveiled that Messenger would allow chatbots into the app.[37] In large companies, like in hospitals and aviation organizations, IT architects are designing reference architectures for Intelligent Chatbots that are used to unlock and share knowledge and experience in the organization more efficiently, and reduce the errors in answers from expert service desks significantly.[38] These Intelligent Chatbots make use of all kinds of artificial intelligence like image moderation and natural-language understanding (NLU), natural-language generation (NLG), machine learning and deep learning.\\n\\nCustomer service\\nMany high-tech banking organizations are looking to integrate automated AI-based solutions such as chatbots into their customer service in order to provide faster and cheaper assistance to their clients who are becoming increasingly comfortable with technology. In particular, chatbots can efficiently conduct a dialogue, usually replacing other communication tools such as email, phone, or SMS. In banking, their major application is related to quick customer service answering common requests, as well as transactional support.\\n\\nSeveral studies report significant reduction in the cost of customer services, expected to lead to billions of dollars of economic savings in the next ten years.[39] In 2019, Gartner predicted that by 2021, 15% of all customer service interactions globally will be handled completely by AI.[40] A study by Juniper Research in 2019 estimates retail sales resulting from chatbot-based interactions will reach $112 billion by 2023.[41]\\n\\nSince 2016, when Facebook allowed businesses to deliver automated customer support, e-commerce guidance, content, and interactive experiences through chatbots, a large variety of chatbots were developed for the Facebook Messenger platform.[42]\\n\\nIn 2016, Russia-based Tochka Bank launched the world\\'s first Facebook bot for a range of financial services, including a possibility of making payments.[43]\\n\\nIn July 2016, Barclays Africa also launched a Facebook chatbot, making it the first bank to do so in Africa.[44]\\n\\nThe France\\'s third-largest bank by total assets[45] SociÃ©tÃ© GÃ©nÃ©rale launched their chatbot called SoBot in March 2018. While 80% of users of the SoBot expressed their satisfaction after having tested it, SociÃ©tÃ© GÃ©nÃ©rale deputy director Bertrand Cozzarolo stated that it will never replace the expertise provided by a human advisor. [46]\\n\\nThe advantages of using chatbots for customer interactions in banking include cost reduction, financial advice, and 24/7 support.[47][48]\\n\\nHealthcare\\nSee also: Artificial intelligence in healthcare\\nChatbots are also appearing in the healthcare industry.[49][50] A study suggested that physicians in the United States believed that chatbots would be most beneficial for scheduling doctor appointments, locating health clinics, or providing medication information.[51]\\n\\nWhatsapp has teamed up with the World Health Organisation (WHO) to make a chatbot service that answers usersâ€™ questions on COVID-19.[52]\\n\\nIn 2020, The Indian Government launched a chatbot called MyGov Corona Helpdesk,[53] that worked through Whatsapp and helped people access information about the Coronavirus (COVID-19) pandemic.[54][55]\\n\\nCertain patient groups are still reluctant to use chatbots. A mixed-methods study showed that people are still hesitant to use chatbots for their healthcare due to poor understanding of the technological complexity, the lack of empathy, and concerns about cyber-security.[56] The analysis showed that while 6% had heard of a health chatbot and 3% had experience of using it, 67% perceived themselves as likely to use one within 12 months. The majority of participants would use a health chatbot for seeking general health information (78%), booking a medical appointment (78%), and looking for local health services (80%). However, a health chatbot was perceived as less suitable for seeking results of medical tests and seeking specialist advice such as sexual health. The analysis of attitudinal variables showed that most participants reported their preference for discussing their health with doctors (73%) and having access to reliable and accurate health information (93%). While 80% were curious about new technologies that could improve their health, 66% reported only seeking a doctor when experiencing a health problem and 65% thought that a chatbot was a good idea. Interestingly, 30% reported dislike about talking to computers, 41% felt it would be strange to discuss health matters with a chatbot and about half were unsure if they could trust the advice given by a chatbot. Therefore, perceived trustworthiness, individual attitudes towards bots, and dislike for talking to computers are the main barriers to health chatbots.\\n\\nPolitics\\nSee also: Government by algorithm Â§ AI politicians\\nIn New Zealand, the chatbot SAM â€“ short for Semantic Analysis Machine[57] (made by Nick Gerritsen of Touchtech[58]) â€“ has been developed. It is designed to share its political thoughts, for example on topics such as climate change, healthcare and education, etc. It talks to people through Facebook Messenger.[59][60][61][62]\\n\\nIn 2022, the chatbot \"Leader Lars\" or \"Leder Lars\" was nominated for The Synthetic Party to run in the Danish parliamentary election,[63] and was built by the artist collective Computer Lars.[64] Leader Lars differed from earlier virtual politicians by leading a political party and by not pretending to be an objective candidate.[65] This chatbot engaged in critical discussions on politics with users from around the world.[66]\\n\\nIn India, the state government has launched a chatbot for its Aaple Sarkar platform,[67] which provides conversational access to information regarding public services managed.[68][69]\\n\\nToys\\nChatbots have also been incorporated into devices not primarily meant for computing, such as toys.[70]\\n\\nHello Barbie is an Internet-connected version of the doll that uses a chatbot provided by the company ToyTalk,[71] which previously used the chatbot for a range of smartphone-based characters for children.[72] These characters\\' behaviors are constrained by a set of rules that in effect emulate a particular character and produce a storyline.[73]\\n\\nThe My Friend Cayla doll was marketed as a line of 18-inch (46 cm) dolls which uses speech recognition technology in conjunction with an Android or iOS mobile app to recognize the child\\'s speech and have a conversation. It, like the Hello Barbie doll, attracted controversy due to vulnerabilities with the doll\\'s Bluetooth stack and its use of data collected from the child\\'s speech.\\n\\nIBM\\'s Watson computer has been used as the basis for chatbot-based educational toys for companies such as CogniToys[70] intended to interact with children for educational purposes.[74]\\n\\nMalicious use\\nMalicious chatbots are frequently used to fill chat rooms with spam and advertisements, by mimicking human behavior and conversations or to entice people into revealing personal information, such as bank account numbers. They were commonly found on Yahoo! Messenger, Windows Live Messenger, AOL Instant Messenger and other instant messaging protocols. There has also been a published report of a chatbot used in a fake personal ad on a dating service\\'s website.[75]\\n\\nTay, an AI chatbot that learns from previous interaction, caused major controversy due to it being targeted by internet trolls on Twitter. The bot was exploited, and after 16 hours began to send extremely offensive Tweets to users. This suggests that although the bot learned effectively from experience, adequate protection was not put in place to prevent misuse.[76]\\n\\nIf a text-sending algorithm can pass itself off as a human instead of a chatbot, its message would be more credible. Therefore, human-seeming chatbots with well-crafted online identities could start scattering fake news that seems plausible, for instance making false claims during an election. With enough chatbots, it might be even possible to achieve artificial social proof.[77][78]\\n\\nLimitations of chatbots\\nThe creation and implementation of chatbots is still a developing area, heavily related to artificial intelligence and machine learning, so the provided solutions, while possessing obvious advantages, have some important limitations in terms of functionalities and use cases. However, this is changing over time.\\n\\nThe most common limitations are listed below:[79]\\n\\nAs the input/output database is fixed and limited, chatbots can fail while dealing with an unsaved query.[48]\\nA chatbot\\'s efficiency highly depends on language processing and is limited because of irregularities, such as accents and mistakes.\\nChatbots are unable to deal with multiple questions at the same time and so conversation opportunities are limited.[79]\\nChatbots require a large amount of conversational data to train. Generative models, which are based on deep learning algorithms to generate new responses word by word based on user input, are usually trained on a large dataset of natural-language phrases.[2]\\nChatbots have difficulty managing non-linear conversations that must go back and forth on a topic with a user.[80]\\nAs it happens usually with technology-led changes in existing services, some consumers, more often than not from older generations, are uncomfortable with chatbots due to their limited understanding, making it obvious that their requests are being dealt with by machines.[79]\\nChatbots and jobs\\nChatbots are increasingly present in businesses and often are used to automate tasks that do not require skill-based talents. With customer service taking place via messaging apps as well as phone calls, there are growing numbers of use-cases where chatbot deployment gives organizations a clear return on investment. Call center workers may be particularly at risk from AI-driven chatbots.[81]\\n\\nChatbot jobs\\n\\nChatbot developers create, debug, and maintain applications that automate customer services or other communication processes. Their duties include reviewing and simplifying code when needed. They may also help companies implement bots in their operations.\\n\\nA study by Forrester (June 2017) predicted that 25% of all jobs would be impacted by AI technologies by 2019.[82]\\n\\nSee also\\nicon\\tLinguistics portal\\nApplications of artificial intelligence\\nAutonomous agent\\nChatGPT (from OpenAI)\\nConversational user interface\\nDead Internet theory\\nEugene Goostman\\nFriendly artificial intelligence\\nHybrid intelligent system\\nIntelligent agent\\nInternet bot\\nList of chatbots\\nMulti-agent system\\nNatural language processing\\nSocial bot\\nSoftware agent\\nSoftware bot\\nStochastic parrot\\nTwitterbot\\nReferences\\n \"What is a chatbot?\". techtarget.com. Archived from the original on 2 November 2010. Retrieved 30 January 2017.\\n Caldarini, Guendalina; Jaf, Sardar; McGarry, Kenneth (2022). \"A Literature Survey of Recent Advances in Chatbots\". Information. MDPI. 13 (1): 41. doi:10.3390/info13010041.\\n Mauldin, Michael (1994), \"ChatterBots, TinyMuds, and the Turing Test: Entering the Loebner Prize Competition\", Proceedings of the Eleventh National Conference on Artificial Intelligence, AAAI Press, archived from the original on 13 December 2007, retrieved 5 March 2008\\n Hu, Krystal; Hu, Krystal (2 February 2023). \"ChatGPT sets record for fastest-growing user base - analyst note\". Reuters.\\n \"ChatGPT vs. Bing vs. Google Bard: Which AI is the Most Helpful?\".\\n \"GPT-4 takes the world by storm - List of companies that integrated the chatbot\". 21 March 2023.\\n \"2017 Messenger Bot Landscape, a Public Spreadsheet Gathering 1000+ Messenger Bots\". 3 May 2017. Archived from the original on 2 February 2019. Retrieved 1 February 2019.\\n \"GPT-4 takes the world by storm - List of companies that integrated the chatbot\". 21 March 2023.\\n Turing, Alan (1950), \"Computing Machinery and Intelligence\", Mind, 59 (236): 433â€“460, doi:10.1093/mind/lix.236.433\\n Weizenbaum, Joseph (January 1966), \"ELIZA â€“ A Computer Program For the Study of Natural Language Communication Between Man And Machine\", Communications of the ACM, 9 (1): 36â€“45, doi:10.1145/365153.365168, S2CID 1896290\\n GÃ¼zeldere, GÃ¼ven; Franchi, Stefano (24 July 1995), \"Constructions of the Mind\", Stanford Humanities Review, SEHR, Stanford University, 4 (2), archived from the original on 11 July 2007, retrieved 5 March 2008\\n Computer History Museum (2006), \"Internet History â€“ 1970\\'s\", Exhibits, Computer History Museum, archived from the original on 21 February 2008, retrieved 5 March 2008\\n Sondheim, Alan J (1997), <nettime> Important Documents from the Early Internet (1972), nettime.org, archived from the original on 13 June 2008, retrieved 5 March 2008\\n Network Working Group (1973), \"RFC 439, PARRY Encounters the DOCTOR\", Internet Engineering Task Force, Internet Society, doi:10.17487/RFC0439, archived from the original on 20 February 2008, retrieved 5 March 2008 â€“ Transcript of a session between Parry and Eliza. (This is not the dialogue from the ICCC, which took place 24â€“26 October 1972, whereas this session is from 18 September 1972.)\\n The Policeman\\'s Beard is Half Constructed Archived 4 February 2010 at the Wayback Machine. everything2.com. 13 November 1999\\n \"Chatroboter simulieren Menschen\".[permanent dead link]\\n Luo, Renqian; Sun, Liai; Xia, Yingce; Qin, Tao; Zhang, Sheng; Poon, Hoifung; Liu, Tie-Yan; et al. (2022). \"BioGPT: generative pre-trained transformer for biomedical text generation and mining\". Brief Bioinform. 23 (6). doi:10.1093/bib/bbac409. PMID 36156661.\\n Bastian, Matthias (29 January 2023). \"BioGPT is a Microsoft language model trained for biomedical tasks\". The Decoder. Archived from the original on 7 February 2023. Retrieved 7 February 2023.\\n \"DBpedia Chatbot\". chat.dbpedia.org. Archived from the original on 8 September 2019. Retrieved 9 September 2019.\\n \"Meet the DBpedia Chatbot | DBpedia\". wiki.dbpedia.org. 22 August 2018. Archived from the original on 2 September 2019. Retrieved 2 September 2019.\\n \"Meet the DBpedia Chatbot\". dbpedia.org. 22 August 2018. Archived from the original on 2 September 2019. Retrieved 2 September 2019.\\n Beaver, Laurie (July 2016). The Chatbots Explainer. BI Intelligence. Archived from the original on 3 May 2019. Retrieved 4 November 2019.\\n \"Facebook Messenger Hits 100,000 bots\". 18 April 2017. Archived from the original on 22 September 2017. Retrieved 22 September 2017.\\n \"KLM claims airline first with WhatsApp Business Platform\". www.phocuswire.com. Archived from the original on 5 February 2020. Retrieved 12 December 2021.\\n Forbes Staff (26 October 2017). \"AeromÃ©xico te atenderÃ¡ por WhatsApp durante 2018\". Archived from the original on 2 July 2018. Retrieved 2 July 2018.\\n \"PodrÃ¡s hacer \\'check in\\' y consultar tu vuelo con AeromÃ©xico a travÃ©s de WhatsApp\". Huffington Post. 27 October 2017. Archived from the original on 10 March 2018. Retrieved 2 July 2018.\\n \"Building for People, and Now Businesses\". WhatsApp.com. Archived from the original on 9 February 2018. Retrieved 2 July 2018.\\n \"She is the company\\'s most effective employee\". Nordea News. September 2017. Archived from the original on 23 March 2023. Retrieved 23 March 2023.\\n \"Better believe the bot boom is blowing up big for B2B, B2C businesses\". VentureBeat. 24 July 2016. Archived from the original on 3 August 2017. Retrieved 30 August 2017.\\n Capan, Faruk (18 October 2017). \"The AI Revolution is Underway!\". www.PM360online.com. Archived from the original on 8 March 2018. Retrieved 7 March 2018.\\n \"80% of businesses want chatbots by 2020\". Business Insider. 15 December 2016. Archived from the original on 8 March 2018. Retrieved 7 March 2018.\\n \"A Virtual Travel Agent With All the Answers\". The New York Times. 4 March 2008. Archived from the original on 15 June 2017. Retrieved 3 August 2017.\\n \"Chatbot vendor directory released\". www.hypergridbusiness.com. October 2011. Archived from the original on 23 April 2017. Retrieved 23 April 2017.\\n \"Rare Carat\\'s Watson-powered chatbot will help you put a diamond ring on it\". TechCrunch. 15 February 2017. Archived from the original on 22 August 2017. Retrieved 22 August 2017.\\n \"10 ways you may have already used IBM Watson\". VentureBeat. 10 March 2017. Archived from the original on 22 August 2017. Retrieved 22 August 2017.\\n Greenfield, Rebecca (5 May 2016). \"Chatbots Are Your Newest, Dumbest Co-Workers\". Bloomberg.com. Archived from the original on 6 April 2017. Retrieved 6 March 2017.\\n \"Facebook opens its Messenger platform to chatbots\". Venturebeat. 12 April 2016. Archived from the original on 23 June 2017. Retrieved 22 June 2017.\\n \"Chatbot Reference Architecture\". 1 January 2019. Archived from the original on 15 January 2019. Retrieved 14 January 2019.\\n Hingrajia, Mirant. \"How Chatbots are Transforming Wall Street and Main Street Banks?\". Marutitech. Archived from the original on 1 April 2019. Retrieved 1 April 2019.\\n \"How to Manage Customer Service Technology Innovation\". www.gartner.com. Archived from the original on 11 December 2019. Retrieved 2 January 2020.\\n Smith, Sam (8 May 2019). \"Chatbot Interactions to Reach 22 Billion by 2023, as AS AI Offers Compelling New Engagement Solutions\". Juniper Research. Archived from the original on 2 January 2020. Retrieved 2 January 2020.\\n \"Facebook launches Messenger platform with chatbots\". Techcrunch. 12 April 2016. Archived from the original on 26 October 2019. Retrieved 1 April 2019.\\n \"Ð\\xa0Ð¾ÑÑÐ¸Ð¹ÑÐºÐ¸Ð¹ Ð±Ð°Ð½Ðº Ð·Ð°Ð¿ÑƒÑÑ‚Ð¸Ð» Ñ‡Ð°Ñ‚-Ð±Ð¾Ñ‚Ð° Ð² Facebook\". Vedomosti.ru. 13 July 2016. Archived from the original on 1 April 2019. Retrieved 1 April 2019.\\n \"Absa launches \\'world-first\\' Facebook Messenger banking\". 19 July 2016. Archived from the original on 1 April 2019. Retrieved 1 April 2019.\\n \"The Biggest French Banks by Total Assets\". Banks around the World. Archived from the original on 9 July 2017. Retrieved 1 April 2019.\\n \"Gagner du Temps avec le Chatbot Bancaire pour Gagner en Intelligence avec les Conseillers\". Marketing Client. 19 June 2018. Archived from the original on 1 April 2019. Retrieved 1 April 2019.\\n Marous, Jim (14 March 2018). \"Meet 11 of the Most Interesting Chatbots in Banking\". The Financial Brand. Archived from the original on 1 April 2019. Retrieved 1 April 2019.\\n \"Chatbots: Boon or Bane?\". bluelupin. 9 January 2018. Archived from the original on 1 April 2019. Retrieved 1 April 2019.\\n Larson, Selena (11 October 2016). \"Baidu is bringing AI chatbots to healthcare\". CNN Money. Archived from the original on 3 January 2020. Retrieved 3 January 2020.\\n \"AI chatbots have a future in healthcare, with caveats\". AI in Healthcare. Archived from the original on 23 March 2023. Retrieved 17 September 2019.\\n Palanica, Adam; Flaschner, Peter; Thommandram, Anirudh; Li, Michael; Fossat, Yan (3 January 2019). \"Physicians\\' Perceptions of Chatbots in Health Care: Cross-Sectional Web-Based Survey\". Journal of Medical Internet Research. 21 (4): e12887. doi:10.2196/12887. PMC 6473203. PMID 30950796.\\n Ahaskar, Abhijit (27 March 2020). \"How WhatsApp chatbots are helping in the fight against Covid-19\". Mint. Archived from the original on 23 July 2020. Retrieved 23 July 2020.\\n \"India\\'s Coronavirus Chatbot on WhatsApp Crosses 1.7 Crore Users in 10 Days\". NDTV Gadgets 360. April 2020. Archived from the original on 21 June 2020. Retrieved 23 July 2020.\\n Kurup, Rajesh (21 March 2020). \"COVID-19: Govt of India launches a WhatsApp chatbot\". Business Line. Archived from the original on 23 July 2020. Retrieved 23 July 2020.\\n \"In focus: Mumbai-based Haptik which developed India\\'s official WhatsApp chatbot for Covid-19\". Hindustan Times. 7 April 2020. Archived from the original on 23 July 2020. Retrieved 23 July 2020.\\n Nadarzynski, Tom; Miles, Oliver; Cowie, Aimee; Ridge, Damien (1 January 2019). \"Acceptability of artificial intelligence (AI)-led chatbot services in healthcare: A mixed-methods study\". Digital Health. 5: 2055207619871808. doi:10.1177/2055207619871808. PMC 6704417. PMID 31467682.\\n \"Sam, the virtual politician\". Tuia Innovation. Archived from the original on 1 September 2019. Retrieved 9 September 2019.\\n Wellington, Victoria University of (15 December 2017). \"Meet the world\\'s first virtual politician\". Victoria University of Wellington. Archived from the original on 3 January 2020. Retrieved 3 January 2020.\\n Wagner, Meg (23 November 2017). \"This virtual politician wants to run for office\". CNN. Archived from the original on 1 September 2019. Retrieved 9 September 2019.\\n \"Talk with the first-ever robot politician on Facebook Messenger\". Engadget. 25 November 2017. Archived from the original on 4 August 2019. Retrieved 9 September 2019.\\n Prakash, Abishur (8 August 2018). \"AI-Politicians: A Revolution In Politics\". Medium. Archived from the original on 10 August 2019. Retrieved 1 September 2019.\\n \"SAM website\". Archived from the original on 11 May 2021. Retrieved 23 May 2021.\\n Sternberg, Sarah (20 June 2022). \"Danskere vil ind pÃ¥ den politiske scene med kunstig intelligens\" [Danes want to enter the political scene with artificial intelligence]. Jyllands-Posten. Archived from the original on 20 June 2022. Retrieved 20 June 2022.\\n Diwakar, Amar (22 August 2022). \"Can an AI-led Danish party usher in an age of algorithmic politics?\". TRT World. Archived from the original on 22 August 2022. Retrieved 22 August 2022.\\n Xiang, Chloe (13 October 2022). \"This Danish Political Party Is Led by an AI\". Vice: Motherboard. Archived from the original on 13 October 2022. Retrieved 13 October 2022.\\n Hearing, Alice (14 October 2022). \"A.I. chatbot is leading a Danish political party and setting its policies. Now users are grilling it for its stance on political landmines\". Fortune. Archived from the original on 22 December 2022. Retrieved 8 December 2022.\\n \"Maharashtra government launches Aaple Sarkar chatbot to provide info on 1,400 public services\". CNBC TV18. 5 March 2019. Archived from the original on 23 July 2020. Retrieved 23 July 2020.\\n \"Government of Maharashtra launches Aaple Sarkar chatbot with Haptik\". The Economic Times. Archived from the original on 16 December 2020. Retrieved 23 July 2020.\\n Aggarwal, Varun (5 March 2019). \"Maharashtra launches Aaple Sarkar chatbot\". Business Line. Archived from the original on 23 July 2020. Retrieved 23 July 2020.\\n Amy (23 February 2015). \"Conversational Toys â€“ The Latest Trend in Speech Technology\". Virtual Agent Chat. Archived from the original on 21 February 2018. Retrieved 11 August 2016.\\n Nagy, Evie (13 February 2015). \"Using Toy-talk Technology, New Hello Barbie Will Have Real Conversations With Kids\". Fast Company. Archived from the original on 15 March 2015. Retrieved 18 March 2015.\\n Oren Jacob, the co-founder and CEO of ToyTalk interviewed on the TV show Triangulation on the TWiT.tv network\\n \"Artificial intelligence script tool\". Archived from the original on 12 December 2021. Retrieved 12 December 2021.\\n Takahashi, Dean (23 February 2015). \"Elemental\\'s smart connected toy taps IBM\\'s Watson supercomputer for its brains\". Venture Beat. Archived from the original on 20 May 2015. Retrieved 15 May 2015.\\n Epstein, Robert (October 2007). \"From Russia With Love: How I got fooled (and somewhat humiliated) by a computer\" (PDF). Scientific American: Mind. pp. 16â€“17. Archived (PDF) from the original on 19 October 2010. Retrieved 9 December 2007. Psychologist Robert Epstein reports how he was initially fooled by a chatterbot posing as an attractive girl in a personal ad he answered on a dating website. In the ad, the girl portrayed herself as being in Southern California and then soon revealed, in poor English, that she was actually in Russia. He became suspicious after a couple of months of email exchanges, sent her an email test of gibberish, and she still replied in general terms. The dating website is not named.\\n Bird, Jordan J.; Ekart, Aniko; Faria, Diego R. (June 2018). Learning from Interaction: An Intelligent Networked-based Human-bot and Bot-bot Chatbot System in: Advances in Computational Intelligence Systems (1st ed.). Nottingham, UK: Springer. pp. 179â€“190. doi:10.1007/978-3-319-97982-3_15. ISBN 978-3-319-97982-3. S2CID 52069140.\\n Temming, Maria (20 November 2018). \"How Twitter bots get people to spread fake news\". Science News. Archived from the original on 27 November 2018. Retrieved 20 November 2018.\\n Epp, Len (11 May 2016). \"Five Potential Malicious Uses For Chatbots\". Archived from the original on 24 February 2023. Retrieved 24 February 2023.\\n Marous, Jim (14 March 2018). \"Meet 11 of the Most Interesting Chatbots in Banking\". The Financial Brand. Archived from the original on 1 April 2019. Retrieved 1 April 2019.\\n Grudin, Jonathan; Jacques, Richard (2019), \"Chatbots, Humbots, and the Quest for Artificial General Intelligence\", Proceedings of the 2019 CHI Conference on Human Factors in Computing Systems â€“ CHI \\'19, ACM CHI 2020, pp. 209â€“219, doi:10.1145/3290605.3300439, ISBN 978-1-4503-5970-2, S2CID 140274744\\n \"How talking machines are taking call center jobs\". BBC News. 23 August 2018. Archived from the original on 1 April 2019. Retrieved 1 April 2019.\\n \"How chatbots are killing jobs (and creating new ones)\". 18 June 2017. Archived from the original on 1 April 2019. Retrieved 1 April 2019.\\nFurther reading\\nSearle, John (1980), \"Minds, Brains and Programs\", Behavioral and Brain Sciences, 3 (3): 417â€“457, doi:10.1017/S0140525X00005756, S2CID 55303721\\nShevat, Amir (2017). Designing bots: Creating conversational experiences (First ed.). Sebastopol, CA: O\\'Reilly Media. ISBN 978-1-4919-7482-7. OCLC 962125282.\\nExternal links\\n Media related to Chatbots at Wikimedia Commons\\n Conversational bots at Wikibooks\\nvte\\nNatural language processing\\nPortal:\\nicon Language\\nAuthority control: National Edit this at Wikidata\\t\\nGermanyCzech Republic\\nCategories: ChatbotsInstant messagingInteractive narrativeNatural language parsing\\nThis page was last edited on 26 May 2023, at 14:50 (UTC).\\nText is available under the Creative Commons Attribution-ShareAlike License 3.0; additional terms may apply. By using this site, you agree to the Terms of Use and Privacy Policy. WikipediaÂ® is a registered trademark of the Wikimedia Foundation, Inc., a non-profit organization.\\nPrivacy policyAbout WikipediaDisclaimersContact WikipediaMobile viewDevelopersStatisticsCookie statementWikimedia FoundationPowered by MediaWiki'"
      ]
     },
     "execution_count": 82,
     "metadata": {},
     "output_type": "execute_result"
    }
   ],
   "source": [
    "raw_doc"
   ]
  },
  {
   "cell_type": "code",
   "execution_count": 107,
   "id": "04f0c6e7",
   "metadata": {},
   "outputs": [],
   "source": [
    "sent_tokens = nltk.sent_tokenize(raw)# converts to list of sentences \n",
    "word_tokens = nltk.word_tokenize(raw)# converts to list of words"
   ]
  },
  {
   "cell_type": "code",
   "execution_count": 98,
   "id": "a599c04d",
   "metadata": {},
   "outputs": [
    {
     "data": {
      "text/plain": [
       "'Parts of this article (those related to everything, particularly sections after the intro) need to be updated.'"
      ]
     },
     "execution_count": 98,
     "metadata": {},
     "output_type": "execute_result"
    }
   ],
   "source": [
    "sent_tokens[1]"
   ]
  },
  {
   "cell_type": "code",
   "execution_count": 99,
   "id": "834c43a1",
   "metadata": {},
   "outputs": [
    {
     "data": {
      "text/plain": [
       "['menu',\n",
       " 'WikipediaThe',\n",
       " 'Free',\n",
       " 'Encyclopedia',\n",
       " 'Search',\n",
       " 'Wikipedia',\n",
       " 'Create',\n",
       " 'account',\n",
       " 'Log']"
      ]
     },
     "execution_count": 99,
     "metadata": {},
     "output_type": "execute_result"
    }
   ],
   "source": [
    "word_tokens[1:10]"
   ]
  },
  {
   "cell_type": "markdown",
   "id": "4c4b68b0",
   "metadata": {},
   "source": [
    "Text PreProcessing Steps"
   ]
  },
  {
   "cell_type": "code",
   "execution_count": 108,
   "id": "93d99660",
   "metadata": {},
   "outputs": [],
   "source": [
    "lemmer = nltk.stem.WordNetLemmatizer()\n",
    "#WordNet is a semantically-oriented dictionary of English included in NLTK.\n",
    "def LemTokens(tokens):\n",
    "    return [lemmer.lemmatize(token) for token in tokens]\n",
    "remove_punct_dict = dict((ord(punct), None) for punct in string.punctuation)\n",
    "\n",
    "def LemNormalize(text):\n",
    "    return LemTokens(nltk.word_tokenize(text.lower().translate(remove_punct_dict)))"
   ]
  },
  {
   "cell_type": "code",
   "execution_count": 109,
   "id": "8fb81eb7",
   "metadata": {},
   "outputs": [],
   "source": [
    "GREETING_INPUTS = (\"hello\", \"hi\", \"greetings\", \"sup\", \"what's up\",\"hey\",)\n",
    "GREETING_RESPONSES = [\"hi\", \"hey\", \"*nods*\", \"hi there\", \"hello\", \"I am glad! You are talking to me\"]\n",
    "def greeting(sentence):\n",
    " \n",
    "    for word in sentence.split():\n",
    "        if word.lower() in GREETING_INPUTS:\n",
    "            return random.choice(GREETING_RESPONSES)"
   ]
  },
  {
   "cell_type": "code",
   "execution_count": 110,
   "id": "2d98bb2f",
   "metadata": {},
   "outputs": [],
   "source": [
    "def response(user_response):\n",
    "    robo_response=''\n",
    "    sent_tokens.append(user_response)\n",
    "    TfidfVec = TfidfVectorizer(tokenizer=LemNormalize, stop_words='english')\n",
    "    tfidf = TfidfVec.fit_transform(sent_tokens)\n",
    "    vals = cosine_similarity(tfidf[-1], tfidf)\n",
    "    idx=vals.argsort()[0][-2]\n",
    "    flat = vals.flatten()\n",
    "    flat.sort()\n",
    "    req_tfidf = flat[-2]\n",
    "    if(req_tfidf==0):\n",
    "        robo_response=robo_response+\"I am sorry! I don't understand you\"\n",
    "        return robo_response\n",
    "    else:\n",
    "        robo_response = robo_response+sent_tokens[idx]\n",
    "        return robo_response"
   ]
  },
  {
   "cell_type": "code",
   "execution_count": 111,
   "id": "c5024e63",
   "metadata": {
    "scrolled": true
   },
   "outputs": [
    {
     "name": "stdout",
     "output_type": "stream",
     "text": [
      "ROBO: My name is Robo. I will answer your queries about Chatbots. If you want to exit, type Bye!\n",
      "hi\n",
      "ROBO: I am glad! You are talking to me\n",
      "how are you\n",
      "ROBO: I am sorry! I don't understand you\n",
      "what is chatbot\n",
      "ROBO: \"DBpedia Chatbot\".\n",
      "bye\n",
      "ROBO: Bye! take care..\n"
     ]
    }
   ],
   "source": [
    "flag=True\n",
    "print(\"ROBO: My name is Robo. I will answer your queries about Chatbots. If you want to exit, type Bye!\")\n",
    "while(flag==True):\n",
    "    user_response = input()\n",
    "    user_response=user_response.lower()\n",
    "    if(user_response!='bye'):\n",
    "        if(user_response=='thanks' or user_response=='thank you' ):\n",
    "            flag=False\n",
    "            print(\"ROBO: You are welcome..\")\n",
    "        else:\n",
    "            if(greeting(user_response)!=None):\n",
    "                print(\"ROBO: \"+greeting(user_response))\n",
    "            else:\n",
    "                print(\"ROBO: \",end=\"\")\n",
    "                print(response(user_response))\n",
    "                sent_tokens.remove(user_response)\n",
    "    else:\n",
    "        flag=False\n",
    "        print(\"ROBO: Bye! take care..\")"
   ]
  }
 ],
 "metadata": {
  "kernelspec": {
   "display_name": "Python 3 (ipykernel)",
   "language": "python",
   "name": "python3"
  },
  "language_info": {
   "codemirror_mode": {
    "name": "ipython",
    "version": 3
   },
   "file_extension": ".py",
   "mimetype": "text/x-python",
   "name": "python",
   "nbconvert_exporter": "python",
   "pygments_lexer": "ipython3",
   "version": "3.10.4"
  }
 },
 "nbformat": 4,
 "nbformat_minor": 5
}
